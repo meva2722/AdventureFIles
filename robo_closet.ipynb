{
 "cells": [
  {
   "cell_type": "markdown",
   "id": "05173985",
   "metadata": {},
   "source": [
    "# Random attempt at an outfit planner/randomizer (no pun intended)"
   ]
  },
  {
   "cell_type": "code",
   "execution_count": 19,
   "id": "063e5ad9",
   "metadata": {},
   "outputs": [],
   "source": [
    "import random\n",
    "import datetime\n",
    "from datetime import date\n",
    "import psycopg2"
   ]
  },
  {
   "cell_type": "code",
   "execution_count": 20,
   "id": "7c30e3c0",
   "metadata": {},
   "outputs": [],
   "source": [
    "today = date.today()\n",
    "jackets = [\"navy suit coat\",\"gray sport coat\",\"navy double breasted coat\",\"gray plaid sport coat\"]\n",
    "shirts = [\"ice blue button up\",\"powder blue button up\",\"striped button down\",\"white poplin button up\",\"white oxford button down\"]\n",
    "pants = [\"gray slacks\",\"navy slacks\",\"black slacks\"]\n",
    "shoes = [\"brown loafers\",\"brown double monks\",\"white leather sneakers\"]\n",
    "# my_closet = [jackets,shirts,pants,shoes]"
   ]
  },
  {
   "cell_type": "code",
   "execution_count": 21,
   "id": "150f573b",
   "metadata": {},
   "outputs": [
    {
     "name": "stdout",
     "output_type": "stream",
     "text": [
      "Outfit reccomendation for today:\n",
      "['gray sport coat', 'powder blue button up', 'navy slacks', 'brown double monks']\n",
      "Will this be today's outfit?: Y/N y\n",
      "\n",
      "\n",
      "Your outfit for 2022-12-24 will be: \n",
      " ['gray sport coat', 'powder blue button up', 'navy slacks', 'brown double monks']\n"
     ]
    }
   ],
   "source": [
    "print(\"Outfit reccomendation for today:\")\n",
    "todays_outfit =[random.choice(jackets),random.choice(shirts),random.choice(pants),random.choice(shoes)]\n",
    "print(todays_outfit)\n",
    "\n",
    "answer = input(\"Will this be today's outfit?: Y/N \").upper()\n",
    "print(\"\\n\")\n",
    "\n",
    "if answer == \"Y\":\n",
    "    print(f\"Your outfit for {today} will be: \\n\",todays_outfit)\n",
    "elif answer == \"N\":\n",
    "    print(\"Okay let's try again!\")\n",
    "else:\n",
    "    print(\"Please Anwer with Y or N\")\n"
   ]
  },
  {
   "cell_type": "markdown",
   "id": "ab1e09e4",
   "metadata": {},
   "source": [
    "# move this block into the postgres connection after building "
   ]
  },
  {
   "cell_type": "code",
   "execution_count": null,
   "id": "bc42137a",
   "metadata": {},
   "outputs": [],
   "source": []
  },
  {
   "cell_type": "markdown",
   "id": "7ddda98a",
   "metadata": {},
   "source": [
    "# Establish a postgres connection to store outfits reccomendations"
   ]
  },
  {
   "cell_type": "markdown",
   "id": "372b8783",
   "metadata": {},
   "source": [
    "SQL table Logic: If an outfit has been worn in the past 4-6(?) days {date.today( ) - 6} the script will be run again until a new combonation is generated."
   ]
  },
  {
   "cell_type": "code",
   "execution_count": 22,
   "id": "1e5e8807",
   "metadata": {},
   "outputs": [],
   "source": [
    "conn = psycopg2.connect(\n",
    "    host=\"localhost\",\n",
    "    database=\"AdventureFiles\",\n",
    "    user=\"postgres\",\n",
    "    password=\"\")\n",
    "\n",
    "cursor = conn.cursor()\n",
    "\n"
   ]
  },
  {
   "cell_type": "code",
   "execution_count": 23,
   "id": "8839d3a4",
   "metadata": {},
   "outputs": [],
   "source": [
    "sql ='''CREATE TABLE robo_closet(\n",
    "   jacket CHAR(250),\n",
    "   shirt CHAR(250),\n",
    "   pants CHAR(250),\n",
    "   shoes CHAR(250),\n",
    "   date DATE\n",
    ")'''\n"
   ]
  },
  {
   "cell_type": "code",
   "execution_count": 24,
   "id": "9c5d7954",
   "metadata": {},
   "outputs": [
    {
     "name": "stdout",
     "output_type": "stream",
     "text": [
      "Table created successfully........\n"
     ]
    },
    {
     "ename": "UndefinedColumn",
     "evalue": "column \"jacket\" does not exist\nLINE 1: ...obo_closet(jacket,shirt, pants,shoes,date)VALUES (jacket,shi...\n                                                             ^\nHINT:  There is a column named \"jacket\" in table \"robo_closet\", but it cannot be referenced from this part of the query.\n",
     "output_type": "error",
     "traceback": [
      "\u001b[0;31m---------------------------------------------------------------------------\u001b[0m",
      "\u001b[0;31mUndefinedColumn\u001b[0m                           Traceback (most recent call last)",
      "Input \u001b[0;32mIn [24]\u001b[0m, in \u001b[0;36m<cell line: 4>\u001b[0;34m()\u001b[0m\n\u001b[1;32m      2\u001b[0m \u001b[38;5;28mprint\u001b[39m(\u001b[38;5;124m\"\u001b[39m\u001b[38;5;124mTable created successfully........\u001b[39m\u001b[38;5;124m\"\u001b[39m)\n\u001b[1;32m      4\u001b[0m \u001b[38;5;28;01mfor\u001b[39;00m i \u001b[38;5;129;01min\u001b[39;00m todays_outfit:\n\u001b[0;32m----> 5\u001b[0m     \u001b[43mcursor\u001b[49m\u001b[38;5;241;43m.\u001b[39;49m\u001b[43mexecute\u001b[49m\u001b[43m(\u001b[49m\u001b[38;5;124;43m\"\u001b[39;49m\u001b[38;5;124;43mINSERT into robo_closet(jacket,shirt, pants,shoes,date)VALUES (jacket,shirt, pants,shoes,today)\u001b[39;49m\u001b[38;5;124;43m\"\u001b[39;49m\u001b[43m,\u001b[49m\u001b[43m \u001b[49m\u001b[43mi\u001b[49m\u001b[43m)\u001b[49m\n\u001b[1;32m      7\u001b[0m \u001b[38;5;28mprint\u001b[39m(\u001b[38;5;124m\"\u001b[39m\u001b[38;5;124mOutfit entered\u001b[39m\u001b[38;5;124m\"\u001b[39m)\n\u001b[1;32m      9\u001b[0m conn\u001b[38;5;241m.\u001b[39mcommit()\n",
      "\u001b[0;31mUndefinedColumn\u001b[0m: column \"jacket\" does not exist\nLINE 1: ...obo_closet(jacket,shirt, pants,shoes,date)VALUES (jacket,shi...\n                                                             ^\nHINT:  There is a column named \"jacket\" in table \"robo_closet\", but it cannot be referenced from this part of the query.\n"
     ]
    }
   ],
   "source": [
    "# cursor.execute(sql)\n",
    "print(\"Table created successfully........\")\n",
    "\n",
    "for i in todays_outfit:\n",
    "    cursor.execute(\"INSERT into robo_closet(jacket,shirt, pants,shoes,date)VALUES (jacket,shirt, pants,shoes,today)\", i)\n",
    "    \n",
    "print(\"Outfit entered\")\n",
    "\n",
    "conn.commit()\n",
    "#Closing the connection\n",
    "conn.close()"
   ]
  },
  {
   "cell_type": "code",
   "execution_count": null,
   "id": "e6a644c1",
   "metadata": {},
   "outputs": [],
   "source": []
  },
  {
   "cell_type": "code",
   "execution_count": null,
   "id": "0bd01ec1",
   "metadata": {},
   "outputs": [],
   "source": []
  }
 ],
 "metadata": {
  "kernelspec": {
   "display_name": "Python 3 (ipykernel)",
   "language": "python",
   "name": "python3"
  },
  "language_info": {
   "codemirror_mode": {
    "name": "ipython",
    "version": 3
   },
   "file_extension": ".py",
   "mimetype": "text/x-python",
   "name": "python",
   "nbconvert_exporter": "python",
   "pygments_lexer": "ipython3",
   "version": "3.8.8"
  }
 },
 "nbformat": 4,
 "nbformat_minor": 5
}
