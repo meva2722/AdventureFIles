{
 "cells": [
  {
   "cell_type": "markdown",
   "id": "05173985",
   "metadata": {},
   "source": [
    "# Random attempt at an outfit planner/randomizer (no pun intended)"
   ]
  },
  {
   "cell_type": "code",
   "execution_count": 5,
   "id": "063e5ad9",
   "metadata": {},
   "outputs": [],
   "source": [
    "import random\n",
    "import datetime\n",
    "from datetime import date\n",
    "import psycopg2"
   ]
  },
  {
   "cell_type": "code",
   "execution_count": 6,
   "id": "7c30e3c0",
   "metadata": {},
   "outputs": [],
   "source": [
    "today = date.today()\n",
    "jackets = [\"navy suit coat\",\"gray sport coat\",\"navy double breasted coat\",\"gray plaid sport coat\"]\n",
    "shirts = [\"ice blue button up\",\"powder blue button up\",\"striped button down\",\"white poplin button up\",\"white oxford button down\"]\n",
    "pants = [\"gray slacks\",\"navy slacks\",\"black slacks\"]\n",
    "shoes = [\"brown loafers\",\"brown double monks\",\"white leather sneakers\"]\n",
    "# my_closet = [jackets,shirts,pants,shoes]"
   ]
  },
  {
   "cell_type": "code",
   "execution_count": 7,
   "id": "150f573b",
   "metadata": {},
   "outputs": [
    {
     "name": "stdout",
     "output_type": "stream",
     "text": [
      "Outfit reccomendation for today:\n",
      "['navy suit coat', 'white oxford button down', 'navy slacks', 'brown double monks', datetime.date(2022, 12, 29)]\n",
      "Will this be today's outfit?: Y/N y\n",
      "\n",
      "\n",
      "Your outfit for 2022-12-29 will be: \n",
      " ['navy suit coat', 'white oxford button down', 'navy slacks', 'brown double monks', datetime.date(2022, 12, 29)]\n"
     ]
    }
   ],
   "source": [
    "print(\"Outfit reccomendation for today:\")\n",
    "todays_outfit =[random.choice(jackets),random.choice(shirts),random.choice(pants),random.choice(shoes),today]\n",
    "print(todays_outfit)\n",
    "\n",
    "answer = input(\"Will this be today's outfit?: Y/N \").upper()\n",
    "print(\"\\n\")\n",
    "\n",
    "if answer == \"Y\":\n",
    "    print(f\"Your outfit for {today} will be: \\n\",todays_outfit)\n",
    "elif answer == \"N\":\n",
    "    print(\"Okay let's try again!\")\n",
    "    %run robo_closet.ipynb\n",
    "else:\n",
    "    print(\"Please Anwer with Y or N\")\n",
    "    %run robo_closet.ipynb"
   ]
  },
  {
   "cell_type": "markdown",
   "id": "7ddda98a",
   "metadata": {},
   "source": [
    "# Establish a postgres connection to store outfits reccomendations"
   ]
  },
  {
   "cell_type": "markdown",
   "id": "372b8783",
   "metadata": {},
   "source": [
    "SQL table Logic: If an outfit has been worn in the past 4-6(?) days {date.today( ) - 6} the script will be run again until a new combonation is generated."
   ]
  },
  {
   "cell_type": "code",
   "execution_count": 8,
   "id": "1e5e8807",
   "metadata": {},
   "outputs": [
    {
     "name": "stdout",
     "output_type": "stream",
     "text": [
      "Connection successfully been established\n"
     ]
    }
   ],
   "source": [
    "conn = psycopg2.connect(\n",
    "    host=\"localhost\",\n",
    "    database=\"AdventureFiles\",\n",
    "    user=\"postgres\",\n",
    "    password=\"\")\n",
    "\n",
    "cursor = conn.cursor()\n",
    "\n",
    "print(\"Connection successfully been established\")"
   ]
  },
  {
   "cell_type": "code",
   "execution_count": 9,
   "id": "8839d3a4",
   "metadata": {},
   "outputs": [],
   "source": [
    "sql ='''CREATE TABLE robo_closet(\n",
    "   jacket CHAR(250),\n",
    "   shirt CHAR(250),\n",
    "   pants CHAR(250),\n",
    "   shoes CHAR(250),\n",
    "   date DATE PRIMARY KEY\n",
    ")'''"
   ]
  },
  {
   "cell_type": "code",
   "execution_count": 10,
   "id": "6e5112ed",
   "metadata": {},
   "outputs": [
    {
     "name": "stdout",
     "output_type": "stream",
     "text": [
      "1 Record inserted successfully into mobile table\n"
     ]
    }
   ],
   "source": [
    "# cursor.execute(sql)\n",
    "\n",
    "postgres_insert_query = \"\"\" INSERT into robo_closet(jacket,shirt,pants,shoes,date) VALUES (%s,%s,%s,%s,%s)\"\"\"\n",
    "record_to_insert = todays_outfit\n",
    "cursor.execute(postgres_insert_query, record_to_insert)\n",
    "\n",
    "conn.commit()\n",
    "count = cursor.rowcount\n",
    "print(count, \"Record inserted successfully into mobile table\")"
   ]
  },
  {
   "cell_type": "code",
   "execution_count": 11,
   "id": "1b96d92a",
   "metadata": {},
   "outputs": [
    {
     "name": "stdout",
     "output_type": "stream",
     "text": [
      "[('gray sport coat                                                                                                                                                                                                                                           ', 'ice blue button up                                                                                                                                                                                                                                        ', 'navy slacks                                                                                                                                                                                                                                               ', 'white leather sneakers                                                                                                                                                                                                                                    ', datetime.date(2022, 12, 29)), ('navy suit coat                                                                                                                                                                                                                                            ', 'white oxford button down                                                                                                                                                                                                                                  ', 'navy slacks                                                                                                                                                                                                                                               ', 'brown double monks                                                                                                                                                                                                                                        ', datetime.date(2022, 12, 29))]\n"
     ]
    }
   ],
   "source": [
    "prev_sql = 'SELECT * FROM robo_closet;'\n",
    "\n",
    "cursor.execute(prev_sql)\n",
    "\n",
    "print(cursor.fetchall())\n"
   ]
  },
  {
   "cell_type": "code",
   "execution_count": 1,
   "id": "5e77422c",
   "metadata": {},
   "outputs": [
    {
     "name": "stdout",
     "output_type": "stream",
     "text": [
      "marcus\n"
     ]
    }
   ],
   "source": [
    "print(\"marcus\")"
   ]
  },
  {
   "cell_type": "code",
   "execution_count": null,
   "id": "f05b007d",
   "metadata": {},
   "outputs": [],
   "source": []
  }
 ],
 "metadata": {
  "kernelspec": {
   "display_name": "Python 3",
   "language": "python",
   "name": "python3"
  },
  "language_info": {
   "codemirror_mode": {
    "name": "ipython",
    "version": 3
   },
   "file_extension": ".py",
   "mimetype": "text/x-python",
   "name": "python",
   "nbconvert_exporter": "python",
   "pygments_lexer": "ipython3",
   "version": "3.8.5"
  },
  "vscode": {
   "interpreter": {
    "hash": "aee8b7b246df8f9039afb4144a1f6fd8d2ca17a180786b69acc140d282b71a49"
   }
  }
 },
 "nbformat": 4,
 "nbformat_minor": 5
}
